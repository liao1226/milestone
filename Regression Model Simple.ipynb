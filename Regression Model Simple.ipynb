{
 "cells": [
  {
   "cell_type": "code",
   "execution_count": 16,
   "metadata": {},
   "outputs": [],
   "source": [
    "from __future__ import absolute_import, division, print_function\n",
    "import tensorflow as tf\n",
    "from tensorflow import keras\n",
    "import matplotlib.pyplot as plt\n",
    "import numpy as np\n",
    "import cv2\n",
    "import os\n",
    "import re\n",
    "\n",
    "IMAGE_WIDTH = 400\n",
    "IMAGE_HEIGHT = 5000\n",
    "TRAIN_DATA_DIR = \"Trimed_graphite_Images\\\\Train\"\n",
    "TEST_DATA_DIR = \"Trimed_graphite_Images\\\\Test\"\n",
    "FACE_INSIDE = 0\n",
    "FACE_OUTSIDE = 1\n",
    "CYCLENO_NORMALIZE = 100\n",
    "EPOCHS = 500000\n",
    "NUMBER_OF_LABELS = 3"
   ]
  },
  {
   "cell_type": "code",
   "execution_count": 9,
   "metadata": {},
   "outputs": [],
   "source": [
    "# Feature extraction functions\n",
    "# 1. Average pixel value\n",
    "# 2. Average pixel sd\n",
    "# 3 - 5. Average R/G/B value\n",
    "# 6 - 8. R/G/B sd\n",
    "# 9 - 10. Fraction of light/dark RGB values (over 1 sd)\n",
    "# 11 - 12. Fraction of very light/dark RGB values (over 3 sd)\n",
    "\n",
    "# extensions: k-means clustering to get representative colors and proportions, positions of clusters? hsv representation?\n",
    "\n",
    "def extractFeatures(im):\n",
    "    mean, sd = cv2.meanStdDev(im) # 3 - 5, 6 - 8\n",
    "    \n",
    "    pixVals = im.sum(axis=2)\n",
    "    avgPixVal = pixVals.mean() # 1\n",
    "    sdPixVal = pixVals.flatten().std() # 2\n",
    "    \n",
    "    '''\n",
    "    avgVals = im.mean(axis=0).mean(axis=0) # [avg R, avg G, avg B] (2 - 4)\n",
    "    avgPixelVal = avgVals.mean() # avg pixel val (1)\n",
    "    '''\n",
    "    \n",
    "    lightCount = 0 # 9\n",
    "    darkCount = 0 # 10\n",
    "    vlightCount = 0 # 11\n",
    "    vdarkCount = 0 # 12\n",
    "    for x in range(pixVals.shape[1]):\n",
    "        for y in range(pixVals.shape[0]):\n",
    "            if pixVals[y][x] > avgPixVal + 1 * sdPixVal:\n",
    "                lightCount = lightCount + 1\n",
    "            if pixVals[y][x] < avgPixVal - 1 * sdPixVal:\n",
    "                darkCount = darkCount + 1\n",
    "            if pixVals[y][x] > avgPixVal + 3 * sdPixVal:\n",
    "                vlightCount = vlightCount + 1\n",
    "            if pixVals[y][x] < avgPixVal - 3 * sdPixVal:\n",
    "                vdarkCount = vdarkCount + 1\n",
    "            \n",
    "    features = [avgPixVal, sdPixVal, mean[0], mean[1], mean[2], sd[0], sd[1], sd[2], \n",
    "                lightCount/(pixVals.shape[0]*pixVals.shape[1]), darkCount/(pixVals.shape[0]*pixVals.shape[1]),\n",
    "                vlightCount/(pixVals.shape[0]*pixVals.shape[1]), vdarkCount/(pixVals.shape[0]*pixVals.shape[1])]\n",
    "    return np.array(features).astype(np.float32)\n",
    "            "
   ]
  },
  {
   "cell_type": "code",
   "execution_count": 10,
   "metadata": {},
   "outputs": [
    {
     "name": "stdout",
     "output_type": "stream",
     "text": [
      "Importing data from Trimed_graphite_Images\\Train...\n",
      "  3c3c150cycles_12994_outside.jpg\n",
      "  3c4c1000cycles_12142_inside.jpg\n",
      "  3c4c1000cycles_12142_outside.jpg\n",
      "  3c4c400cycles_17917_inside.jpg\n",
      "  3c4c400cycles_17917_outside.jpg\n",
      "  3c4c800cycles_47450_inside.jpg\n",
      "  3c5c100cycles_25898_inside.jpg\n",
      "  3c5c100cycles_25898_outside.jpg\n",
      "  3c5c200cycles_24375_outside.jpg\n",
      "  3c6c100cycles_27668_inside.jpg\n",
      "  3c6c100cycles_27668_outside.jpg\n",
      "  3c6c250cycles_16375_outside.jpg\n",
      "  3c7c200cycles_25606_inside.jpg\n",
      "  3c7c200cycles_25606_outside.jpg\n",
      "  3c8c200cycles_47446_inside.jpg\n",
      "  3c8c200cycles_47446_outside.jpg\n",
      "  3c8c300cycles_10808_outside.jpg\n",
      "  4c4c1000cycles_38369_inside.jpg\n",
      "  4c5c1000cycles_13520_inside.jpg\n",
      "  4c5c1000cycles_13520_outside.jpg\n",
      "  4c6c1000cycles_21042_outside.jpg\n",
      "  5c3c100cycles_25684_inside.jpg\n",
      "  5c3c100cycles_25684_outside.jpg\n",
      "  5c3c200cycles_19741_outside.jpg\n",
      "  5c4c1000cycles_26293_inside.jpg\n",
      "  5c4c1000cycles_26293_outside.jpg\n",
      "  6c4c200cycles_11008_outside.jpg\n",
      "  6c4c300cycles_40867_inside.jpg\n",
      "  6c4c300cycles_40867_outside.jpg\n",
      "  6c4c400cycles_28414_inside.jpg\n",
      "  6c4c400cycles_28414_outside.jpg\n",
      "  6c4c600cycles_14220_inside.jpg\n",
      "Importing data from Trimed_graphite_Images\\Test...\n",
      "  3c3c150cycles_12994_inside.jpg\n",
      "  3c4c800cycles_47450_outside.jpg\n",
      "  3c5c200cycles_24375_inside.jpg\n",
      "  3c6c250cycles_16375_inside.jpg\n",
      "  3c8c300cycles_10808_inside.jpg\n",
      "  4c4c1000cycles_38369_outside.jpg\n",
      "  4c6c1000cycles_21042_inside.jpg\n",
      "  5c3c200cycles_19741_inside.jpg\n",
      "  6c4c200cycles_11008_inside.jpg\n",
      "  6c4c600cycles_14220_outside.jpg\n"
     ]
    }
   ],
   "source": [
    "# Import data and extract features\n",
    "def importData(directory):\n",
    "    iteration = 1\n",
    "    print(\"Importing data from \" + directory + \"...\")\n",
    "    \n",
    "    for filename in os.listdir(directory):\n",
    "        # import image\n",
    "        im = cv2.imread(directory + \"\\\\\" + filename)\n",
    "        print(\"  \" + filename)\n",
    "        resized_im = cv2.resize(im, (IMAGE_WIDTH, IMAGE_HEIGHT))\n",
    "        \n",
    "        # import labels [dischargeC, chargeC, cycleNo, face]\n",
    "        conditions, barcode, face = filename.split(\"_\")\n",
    "        match = re.search(r'(\\d*)c(\\d*)c(\\d*)cycles', conditions)\n",
    "        face_bool = FACE_INSIDE if face == \"inside\" else FACE_OUTSIDE\n",
    "        agg = [float(match.group(1)), float(match.group(2)), float(match.group(3))/CYCLENO_NORMALIZE]\n",
    "        agg = np.asarray(agg, dtype=np.float32)\n",
    "        # ignore face of electrode for now\n",
    "        # agg = [match.group(1), match.group(2), match.group(3), face_bool]\n",
    "                        \n",
    "        # assemble features and labels\n",
    "        if iteration == 1:\n",
    "            data = extractFeatures(resized_im)\n",
    "            labels = agg\n",
    "        else:\n",
    "            data = np.vstack((data, extractFeatures(resized_im)))\n",
    "            labels = np.vstack((labels, agg))\n",
    "        iteration = iteration + 1\n",
    "        \n",
    "    return data, labels\n",
    "\n",
    "\n",
    "# Load training and test data\n",
    "train_data, train_labels = importData(TRAIN_DATA_DIR)\n",
    "test_data, test_labels = importData(TEST_DATA_DIR)"
   ]
  },
  {
   "cell_type": "code",
   "execution_count": 11,
   "metadata": {},
   "outputs": [
    {
     "name": "stdout",
     "output_type": "stream",
     "text": [
      "Training set: (32, 12)\n",
      "Testing set:  (10, 12)\n"
     ]
    }
   ],
   "source": [
    "# Normalize features\n",
    "# Test data is *not* used when calculating the mean and std\n",
    "\n",
    "mean = train_data.mean(axis=0)\n",
    "std = train_data.std(axis=0)\n",
    "train_data = (train_data - mean) / std\n",
    "test_data = (test_data - mean) / std\n",
    "print(\"Training set: {}\".format(train_data.shape))\n",
    "print(\"Testing set:  {}\".format(test_data.shape))"
   ]
  },
  {
   "cell_type": "code",
   "execution_count": 37,
   "metadata": {},
   "outputs": [
    {
     "name": "stdout",
     "output_type": "stream",
     "text": [
      "_________________________________________________________________\n",
      "Layer (type)                 Output Shape              Param #   \n",
      "=================================================================\n",
      "dense_12 (Dense)             (None, 64)                832       \n",
      "_________________________________________________________________\n",
      "dense_13 (Dense)             (None, 64)                4160      \n",
      "_________________________________________________________________\n",
      "dense_14 (Dense)             (None, 3)                 195       \n",
      "=================================================================\n",
      "Total params: 5,187\n",
      "Trainable params: 5,187\n",
      "Non-trainable params: 0\n",
      "_________________________________________________________________\n"
     ]
    }
   ],
   "source": [
    "# Build model\n",
    "model = keras.Sequential([\n",
    "    keras.layers.Dense(64, activation=tf.nn.relu,\n",
    "                       input_shape=(train_data.shape[1],)),\n",
    "    keras.layers.Dense(64, activation=tf.nn.relu),\n",
    "    keras.layers.Dense(3)\n",
    "])\n",
    "\n",
    "optimizer = tf.train.RMSPropOptimizer(0.001)\n",
    "\n",
    "model.compile(loss='mae', optimizer=optimizer, metrics=['mae'])\n",
    "model.summary()"
   ]
  },
  {
   "cell_type": "code",
   "execution_count": 2,
   "metadata": {
    "scrolled": true
   },
   "outputs": [
    {
     "ename": "NameError",
     "evalue": "name 'keras' is not defined",
     "output_type": "error",
     "traceback": [
      "\u001b[1;31m---------------------------------------------------------------------------\u001b[0m",
      "\u001b[1;31mNameError\u001b[0m                                 Traceback (most recent call last)",
      "\u001b[1;32m<ipython-input-2-532475a33e2a>\u001b[0m in \u001b[0;36m<module>\u001b[1;34m()\u001b[0m\n\u001b[0;32m      1\u001b[0m \u001b[1;31m# Train model\u001b[0m\u001b[1;33m\u001b[0m\u001b[1;33m\u001b[0m\u001b[0m\n\u001b[0;32m      2\u001b[0m \u001b[1;31m# Display training progress by printing a single dot for each completed epoch\u001b[0m\u001b[1;33m\u001b[0m\u001b[1;33m\u001b[0m\u001b[0m\n\u001b[1;32m----> 3\u001b[1;33m \u001b[1;32mclass\u001b[0m \u001b[0mPrintDot\u001b[0m\u001b[1;33m(\u001b[0m\u001b[0mkeras\u001b[0m\u001b[1;33m.\u001b[0m\u001b[0mcallbacks\u001b[0m\u001b[1;33m.\u001b[0m\u001b[0mCallback\u001b[0m\u001b[1;33m)\u001b[0m\u001b[1;33m:\u001b[0m\u001b[1;33m\u001b[0m\u001b[0m\n\u001b[0m\u001b[0;32m      4\u001b[0m   \u001b[1;32mdef\u001b[0m \u001b[0mon_epoch_end\u001b[0m\u001b[1;33m(\u001b[0m\u001b[0mself\u001b[0m\u001b[1;33m,\u001b[0m \u001b[0mepoch\u001b[0m\u001b[1;33m,\u001b[0m \u001b[0mlogs\u001b[0m\u001b[1;33m)\u001b[0m\u001b[1;33m:\u001b[0m\u001b[1;33m\u001b[0m\u001b[0m\n\u001b[0;32m      5\u001b[0m     \u001b[1;32mif\u001b[0m \u001b[0mepoch\u001b[0m \u001b[1;33m%\u001b[0m \u001b[0mint\u001b[0m\u001b[1;33m(\u001b[0m\u001b[0mEPOCHS\u001b[0m\u001b[1;33m/\u001b[0m\u001b[1;36m5\u001b[0m\u001b[1;33m)\u001b[0m \u001b[1;33m==\u001b[0m \u001b[1;36m0\u001b[0m\u001b[1;33m:\u001b[0m \u001b[0mprint\u001b[0m\u001b[1;33m(\u001b[0m\u001b[1;34m''\u001b[0m\u001b[1;33m)\u001b[0m\u001b[1;33m\u001b[0m\u001b[0m\n",
      "\u001b[1;31mNameError\u001b[0m: name 'keras' is not defined"
     ]
    }
   ],
   "source": [
    "# Train model\n",
    "# Display training progress by printing a single dot for each completed epoch\n",
    "class PrintDot(keras.callbacks.Callback):\n",
    "  def on_epoch_end(self, epoch, logs):\n",
    "    if epoch % int(EPOCHS/5) == 0: print('')\n",
    "    if epoch % int(EPOCHS/500) == 0:print('.', end='')\n",
    "\n",
    "# Plotting\n",
    "def plot_history(history):\n",
    "  plt.figure()\n",
    "  plt.xlabel('Epoch')\n",
    "  plt.ylabel('Mean Absolute Error')\n",
    "  plt.plot(history.epoch, np.array(history.history['mean_absolute_error']),\n",
    "           label='Train Loss')\n",
    "  plt.legend()\n",
    "  plt.ylim([0, 0.01])\n",
    "\n",
    "history = model.fit(train_data, train_labels, epochs=EPOCHS, verbose=0, callbacks=[PrintDot()])\n",
    "plot_history(history)"
   ]
  },
  {
   "cell_type": "code",
   "execution_count": 39,
   "metadata": {},
   "outputs": [
    {
     "name": "stdout",
     "output_type": "stream",
     "text": [
      "\n",
      "Testing set Mean Squared Error: 1.0826\n"
     ]
    },
    {
     "data": {
      "image/png": "[encoded data removed]",
      "text/plain": [
       "<Figure size 432x288 with 1 Axes>"
      ]
     },
     "metadata": {
      "needs_background": "light"
     },
     "output_type": "display_data"
    },
    {
     "data": {
      "image/png": "[encoded data removed]",
      "text/plain": [
       "<Figure size 432x288 with 1 Axes>"
      ]
     },
     "metadata": {
      "needs_background": "light"
     },
     "output_type": "display_data"
    },
    {
     "data": {
      "image/png": "[encoded data removed]",
      "text/plain": [
       "<Figure size 432x288 with 1 Axes>"
      ]
     },
     "metadata": {
      "needs_background": "light"
     },
     "output_type": "display_data"
    }
   ],
   "source": [
    "# Test results\n",
    "[loss, mae] = model.evaluate(test_data, test_labels, verbose=0)\n",
    "\n",
    "print(\"\\nTesting set Mean Squared Error: {:2.4f}\".format(mae))\n",
    "\n",
    "# Predictions using test set\n",
    "test_predictions = model.predict(test_data)\n",
    "labels = ['Discharge C-rate', 'Charge C-rate', 'Cycle Number']\n",
    "\n",
    "for labelI in range(NUMBER_OF_LABELS):\n",
    "    plt.figure()\n",
    "    plt.scatter(test_labels[:, labelI], test_predictions[:, labelI])\n",
    "    plt.xlabel('True Values')\n",
    "    plt.ylabel('Predictions')\n",
    "    plt.title(labels[labelI])\n",
    "    plt.axis('equal')\n",
    "    plt.xlim(plt.xlim())\n",
    "    plt.ylim(plt.ylim())\n",
    "    _ = plt.plot([-10, 10], [-10, 10])"
   ]
  },
  {
   "cell_type": "code",
   "execution_count": 1,
   "metadata": {},
   "outputs": [
    {
     "ename": "NameError",
     "evalue": "name 'test_predictions' is not defined",
     "output_type": "error",
     "traceback": [
      "\u001b[1;31m---------------------------------------------------------------------------\u001b[0m",
      "\u001b[1;31mNameError\u001b[0m                                 Traceback (most recent call last)",
      "\u001b[1;32m<ipython-input-1-bcce663bdfdb>\u001b[0m in \u001b[0;36m<module>\u001b[1;34m()\u001b[0m\n\u001b[1;32m----> 1\u001b[1;33m \u001b[0merror\u001b[0m \u001b[1;33m=\u001b[0m \u001b[0mtest_predictions\u001b[0m\u001b[1;33m.\u001b[0m\u001b[0mflatten\u001b[0m\u001b[1;33m(\u001b[0m\u001b[1;33m)\u001b[0m \u001b[1;33m-\u001b[0m \u001b[0mtest_labels\u001b[0m\u001b[1;33m.\u001b[0m\u001b[0mflatten\u001b[0m\u001b[1;33m(\u001b[0m\u001b[1;33m)\u001b[0m\u001b[1;33m\u001b[0m\u001b[0m\n\u001b[0m\u001b[0;32m      2\u001b[0m \u001b[0mprint\u001b[0m\u001b[1;33m(\u001b[0m\u001b[0msum\u001b[0m\u001b[1;33m(\u001b[0m\u001b[1;33m[\u001b[0m\u001b[0mabs\u001b[0m\u001b[1;33m(\u001b[0m\u001b[0merr\u001b[0m\u001b[1;33m)\u001b[0m \u001b[1;32mfor\u001b[0m \u001b[0merr\u001b[0m \u001b[1;32min\u001b[0m \u001b[0merror\u001b[0m\u001b[1;33m]\u001b[0m\u001b[1;33m)\u001b[0m\u001b[1;33m/\u001b[0m\u001b[0mlen\u001b[0m\u001b[1;33m(\u001b[0m\u001b[0merror\u001b[0m\u001b[1;33m)\u001b[0m\u001b[1;33m)\u001b[0m\u001b[1;33m\u001b[0m\u001b[0m\n\u001b[0;32m      3\u001b[0m \u001b[0mplt\u001b[0m\u001b[1;33m.\u001b[0m\u001b[0mhist\u001b[0m\u001b[1;33m(\u001b[0m\u001b[0merror\u001b[0m\u001b[1;33m,\u001b[0m \u001b[0mbins\u001b[0m \u001b[1;33m=\u001b[0m \u001b[1;36m10\u001b[0m\u001b[1;33m)\u001b[0m\u001b[1;33m\u001b[0m\u001b[0m\n\u001b[0;32m      4\u001b[0m \u001b[0mplt\u001b[0m\u001b[1;33m.\u001b[0m\u001b[0mxlabel\u001b[0m\u001b[1;33m(\u001b[0m\u001b[1;34m\"Prediction Error\"\u001b[0m\u001b[1;33m)\u001b[0m\u001b[1;33m\u001b[0m\u001b[0m\n\u001b[0;32m      5\u001b[0m \u001b[0m_\u001b[0m \u001b[1;33m=\u001b[0m \u001b[0mplt\u001b[0m\u001b[1;33m.\u001b[0m\u001b[0mylabel\u001b[0m\u001b[1;33m(\u001b[0m\u001b[1;34m\"Count\"\u001b[0m\u001b[1;33m)\u001b[0m\u001b[1;33m\u001b[0m\u001b[0m\n",
      "\u001b[1;31mNameError\u001b[0m: name 'test_predictions' is not defined"
     ]
    }
   ],
   "source": [
    "error = test_predictions.flatten() - test_labels.flatten()\n",
    "plt.hist(error, bins = 10)\n",
    "plt.xlabel(\"Prediction Error\")\n",
    "_ = plt.ylabel(\"Count\")"
   ]
  }
 ],
 "metadata": {
  "kernelspec": {
   "display_name": "Python 3",
   "language": "python",
   "name": "python3"
  },
  "language_info": {
   "codemirror_mode": {
    "name": "ipython",
    "version": 3
   },
   "file_extension": ".py",
   "mimetype": "text/x-python",
   "name": "python",
   "nbconvert_exporter": "python",
   "pygments_lexer": "ipython3",
   "version": "3.5.6"
  }
 },
 "nbformat": 4,
 "nbformat_minor": 2
}
